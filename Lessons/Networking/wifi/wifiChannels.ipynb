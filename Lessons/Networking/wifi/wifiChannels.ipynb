{
 "cells": [
  {
   "cell_type": "markdown",
   "metadata": {},
   "source": []
  },
  {
   "cell_type": "code",
   "execution_count": 2,
   "metadata": {},
   "outputs": [
    {
     "name": "stdout",
     "output_type": "stream",
     "text": [
      "LNA gain set to 16 dB.\n",
      "VGA gain set to 16 dB.\n"
     ]
    }
   ],
   "source": [
    "from hackrf import HackRF\n",
    "\n",
    "def rx_callback(buffer, *args):\n",
    "    return len(buffer)\n",
    "\n",
    "hackrf = HackRF()\n",
    "hackrf.sample_rate = 10e6  # Basic setup\n",
    "hackrf.center_freq = 2.412e9  # Channel 1 of Wi-Fi\n",
    "\n",
    "try:\n",
    "    hackrf.start_rx(rx_callback)\n",
    "except Exception as e:\n",
    "    print(\"Error:\", e)\n",
    "finally:\n",
    "    hackrf.stop_rx()\n",
    "    hackrf.close()\n"
   ]
  },
  {
   "cell_type": "code",
   "execution_count": 1,
   "metadata": {},
   "outputs": [
    {
     "ename": "",
     "evalue": "",
     "output_type": "error",
     "traceback": [
      "\u001b[1;31mThe Kernel crashed while executing code in the current cell or a previous cell. \n",
      "\u001b[1;31mPlease review the code in the cell(s) to identify a possible cause of the failure. \n",
      "\u001b[1;31mClick <a href='https://aka.ms/vscodeJupyterKernelCrash'>here</a> for more info. \n",
      "\u001b[1;31mView Jupyter <a href='command:jupyter.viewOutput'>log</a> for further details."
     ]
    }
   ],
   "source": [
    "from hackrf import HackRF\n",
    "import numpy as np\n",
    "import time\n",
    "\n",
    "hackrf = HackRF()\n",
    "hackrf.sample_rate = 5e6\n",
    "hackrf.center_freq = 2.412e9  # Example: Channel 1 frequency\n",
    "\n",
    "def rx_callback(buffer, *args):\n",
    "    samples = np.frombuffer(buffer, dtype=np.complex64)\n",
    "    print(f\"Received {len(samples)} samples\")\n",
    "    return len(buffer)\n",
    "\n",
    "try:\n",
    "    hackrf.start_rx(rx_callback)\n",
    "    time.sleep(2)  # Run for 2 seconds\n",
    "except Exception as e:\n",
    "    print(\"Error:\", e)\n",
    "finally:\n",
    "    hackrf.stop_rx()\n",
    "    hackrf.close()\n"
   ]
  },
  {
   "cell_type": "code",
   "execution_count": null,
   "metadata": {},
   "outputs": [],
   "source": []
  }
 ],
 "metadata": {
  "kernelspec": {
   "display_name": "hackrf",
   "language": "python",
   "name": "python3"
  },
  "language_info": {
   "codemirror_mode": {
    "name": "ipython",
    "version": 3
   },
   "file_extension": ".py",
   "mimetype": "text/x-python",
   "name": "python",
   "nbconvert_exporter": "python",
   "pygments_lexer": "ipython3",
   "version": "3.12.2"
  }
 },
 "nbformat": 4,
 "nbformat_minor": 2
}
