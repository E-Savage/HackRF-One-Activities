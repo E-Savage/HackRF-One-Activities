{
 "cells": [
  {
   "cell_type": "markdown",
   "metadata": {},
   "source": [
    "# Lesson 1 SDR with HackRF One\n",
    "\n",
    "Please be aware these are my thoughts and notes on the subject, and I am not an expert. Future readers please be aware that I am learning as well.\n",
    "\n",
    "The first major goal of this project is to use a Software Defined Radio (SDR) to receive and decode radio signals. Learning to decode receive and decode radio signals is a fundamental skill for any radio amateur or hacker. In this lesson, we will use GNU radio to receive and decode a radio signal using a HackRF One. \n",
    "\n",
    "We will be trying to capture an FM radio signal. FM radio signals are relatively easy to capture and decode, and are a good starting point for learning about SDR.\n"
   ]
  },
  {
   "cell_type": "markdown",
   "metadata": {},
   "source": []
  }
 ],
 "metadata": {
  "kernelspec": {
   "display_name": "base",
   "language": "python",
   "name": "python3"
  },
  "language_info": {
   "name": "python",
   "version": "3.12.2"
  }
 },
 "nbformat": 4,
 "nbformat_minor": 2
}
