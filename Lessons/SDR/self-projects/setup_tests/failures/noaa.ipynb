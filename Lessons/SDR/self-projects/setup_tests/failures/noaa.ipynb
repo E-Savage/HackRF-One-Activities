{
 "cells": [
  {
   "cell_type": "markdown",
   "metadata": {},
   "source": [
    "# RECEIVING DATA FROM NOAA SATTELITE\n",
    "\n",
    "So, I would like to receive data from the NOAA satellite. Typically the ranges of the noaa sattelites vary depending on the sat, but almost all use an FM modulation. \n",
    "    - NOAA 15: 1345-1357 MHz but has APT service that runs at 137 MHz to 138 MHz\n",
    "    - NOAA 18: 137.0-137.3 MHz\n",
    "    - Newer sats operate at up to 191.31 GHz\n",
    "\n",
    "These sattelites are used for weather forecasting and are also used for amateur radio. The data is transmitted using the APT (Automatic Picture Transmission) protocol. So I am going to try to receive data and load it into the \n"
   ]
  },
  {
   "cell_type": "markdown",
   "metadata": {},
   "source": [
    "I am going to be using SoapySDR which has the simplesoapy library. I am trying to use the simplesoapy library to create a simple audio stream by demodulating an FM radio signal using the hackrf."
   ]
  },
  {
   "cell_type": "code",
   "execution_count": 13,
   "metadata": {},
   "outputs": [
    {
     "name": "stderr",
     "output_type": "stream",
     "text": [
      "[INFO] Opening HackRF One #0 66a062dc2272319f...\n",
      "Sample rate 2048000.0 Hz is not supported, setting it to 2000000.0 Hz!\n"
     ]
    },
    {
     "ename": "AttributeError",
     "evalue": "'SoapyDevice' object has no attribute 'read_samples'",
     "output_type": "error",
     "traceback": [
      "\u001b[0;31m---------------------------------------------------------------------------\u001b[0m",
      "\u001b[0;31mAttributeError\u001b[0m                            Traceback (most recent call last)",
      "Cell \u001b[0;32mIn[13], line 15\u001b[0m\n\u001b[1;32m     13\u001b[0m \u001b[38;5;66;03m# Capture samples\u001b[39;00m\n\u001b[1;32m     14\u001b[0m buffer_size \u001b[38;5;241m=\u001b[39m \u001b[38;5;241m2048\u001b[39m\n\u001b[0;32m---> 15\u001b[0m samples \u001b[38;5;241m=\u001b[39m \u001b[43msdr\u001b[49m\u001b[38;5;241;43m.\u001b[39;49m\u001b[43mread_samples\u001b[49m(buffer_size)\n\u001b[1;32m     17\u001b[0m \u001b[38;5;66;03m# FM Demodulation function\u001b[39;00m\n\u001b[1;32m     18\u001b[0m \u001b[38;5;28;01mdef\u001b[39;00m \u001b[38;5;21mfm_demodulate\u001b[39m(samples, sample_rate, decimation_factor):\n",
      "\u001b[0;31mAttributeError\u001b[0m: 'SoapyDevice' object has no attribute 'read_samples'"
     ]
    }
   ],
   "source": [
    "import numpy as np\n",
    "import simplesoapy\n",
    "import matplotlib.pyplot as plt\n",
    "from scipy.signal import decimate, butter, lfilter\n",
    "import sounddevice as sd\n",
    "\n",
    "# Set up HackRF\n",
    "sdr = simplesoapy.SoapyDevice(\"device=hackrf\")\n",
    "sdr.sample_rate = 2.048e6  # 2.048 MHz sample rate\n",
    "sdr.frequency = 101.1e6    # Frequency of the FM station (change to your target station)\n",
    "sdr.gain = 20              # Adjust gain as needed\n",
    "\n",
    "# Capture samples\n",
    "buffer_size = 2048\n",
    "samples = sdr.read_samples(buffer_size)\n",
    "\n",
    "# FM Demodulation function\n",
    "def fm_demodulate(samples, sample_rate, decimation_factor):\n",
    "    samples = samples - np.mean(samples)  # Center the signal\n",
    "    angle_diff = np.angle(samples[1:] * np.conj(samples[:-1]))  # Derivative to get phase change\n",
    "    b, a = butter(5, 0.01)  # Low-pass filter\n",
    "    audio = lfilter(b, a, angle_diff)  # Filter the demodulated signal\n",
    "    audio = decimate(audio, decimation_factor)  # Downsample\n",
    "    return audio\n",
    "\n",
    "# Process FM demodulation\n",
    "audio = fm_demodulate(samples, sample_rate=2.048e6, decimation_factor=10)\n",
    "\n",
    "# Plotting the audio output\n",
    "plt.plot(audio[:1000])  # Plotting first 1000 samples of audio\n",
    "plt.title(\"Demodulated Audio Signal\")\n",
    "plt.xlabel(\"Sample Number\")\n",
    "plt.ylabel(\"Amplitude\")\n",
    "plt.show()\n",
    "\n",
    "# Playing audio\n",
    "sd.play(audio, samplerate=204800)  # Adjust sample rate as needed\n"
   ]
  },
  {
   "cell_type": "code",
   "execution_count": null,
   "metadata": {},
   "outputs": [],
   "source": []
  }
 ],
 "metadata": {
  "kernelspec": {
   "display_name": "hackrf",
   "language": "python",
   "name": "python3"
  },
  "language_info": {
   "codemirror_mode": {
    "name": "ipython",
    "version": 3
   },
   "file_extension": ".py",
   "mimetype": "text/x-python",
   "name": "python",
   "nbconvert_exporter": "python",
   "pygments_lexer": "ipython3",
   "version": "3.12.2"
  }
 },
 "nbformat": 4,
 "nbformat_minor": 2
}
